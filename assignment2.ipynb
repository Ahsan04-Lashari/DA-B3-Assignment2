{
 "cells": [
  {
   "cell_type": "markdown",
   "id": "a804a43f-1330-41de-bf47-381ceb005161",
   "metadata": {},
   "source": [
    "# ASSIGNMENT NO:1"
   ]
  },
  {
   "cell_type": "markdown",
   "id": "1639fb36-bce8-478c-be36-87ae628c35f5",
   "metadata": {},
   "source": [
    "## Q)1"
   ]
  },
  {
   "cell_type": "code",
   "execution_count": 1,
   "id": "b96221ec-1e78-4e67-99ea-a0750e1cb6b7",
   "metadata": {},
   "outputs": [
    {
     "data": {
      "text/plain": [
       "'hello python world'"
      ]
     },
     "execution_count": 1,
     "metadata": {},
     "output_type": "execute_result"
    }
   ],
   "source": [
    "text = 'hello python world'\n",
    "text"
   ]
  },
  {
   "cell_type": "code",
   "execution_count": 2,
   "id": "18d2f0b1-4253-4f3e-8b4c-00193bbd7535",
   "metadata": {},
   "outputs": [
    {
     "data": {
      "text/plain": [
       "'hello_python_world'"
      ]
     },
     "execution_count": 2,
     "metadata": {},
     "output_type": "execute_result"
    }
   ],
   "source": [
    "text.replace(' ', '_')"
   ]
  },
  {
   "cell_type": "code",
   "execution_count": 3,
   "id": "fbb7005c-8d83-47cc-9761-7720f7ff0581",
   "metadata": {},
   "outputs": [],
   "source": [
    "text1= 'hello_python_world'"
   ]
  },
  {
   "cell_type": "code",
   "execution_count": 4,
   "id": "a9080642-5dbd-435c-af6d-e24767b6ad51",
   "metadata": {},
   "outputs": [
    {
     "data": {
      "text/plain": [
       "'hello_python_world'"
      ]
     },
     "execution_count": 4,
     "metadata": {},
     "output_type": "execute_result"
    }
   ],
   "source": [
    "text1"
   ]
  },
  {
   "cell_type": "code",
   "execution_count": 9,
   "id": "a979ddbb-7f4f-4178-be19-1972eeedc606",
   "metadata": {},
   "outputs": [
    {
     "name": "stdout",
     "output_type": "stream",
     "text": [
      "['hello', 'python', 'world']\n"
     ]
    }
   ],
   "source": [
    "print (text1.split('_'))"
   ]
  },
  {
   "cell_type": "code",
   "execution_count": 6,
   "id": "124fe633-e7d2-4aac-bb4b-6926c69440d7",
   "metadata": {},
   "outputs": [
    {
     "data": {
      "text/plain": [
       "['hello', 'python', 'world']"
      ]
     },
     "execution_count": 6,
     "metadata": {},
     "output_type": "execute_result"
    }
   ],
   "source": [
    "text2 =['hello', 'python', 'world']\n",
    "text2"
   ]
  },
  {
   "cell_type": "code",
   "execution_count": 8,
   "id": "a28e967c-6ed8-436a-ae23-7d88721ba782",
   "metadata": {},
   "outputs": [
    {
     "name": "stdout",
     "output_type": "stream",
     "text": [
      "hello-python-world\n"
     ]
    }
   ],
   "source": [
    "print ('-'.join(text2))"
   ]
  },
  {
   "cell_type": "markdown",
   "id": "cd8572ff-b45f-4e68-a00b-fb01e33a96fd",
   "metadata": {},
   "source": [
    "## Q)2"
   ]
  },
  {
   "cell_type": "code",
   "execution_count": 10,
   "id": "33aad05d-3572-4528-83f4-a9afc8d8e291",
   "metadata": {},
   "outputs": [
    {
     "data": {
      "text/plain": [
       "'Javascript'"
      ]
     },
     "execution_count": 10,
     "metadata": {},
     "output_type": "execute_result"
    }
   ],
   "source": [
    "word = \"Javascript\"\n",
    "word"
   ]
  },
  {
   "cell_type": "code",
   "execution_count": 12,
   "id": "a47c0691-9dfe-4e15-81d6-779d6476c603",
   "metadata": {},
   "outputs": [
    {
     "data": {
      "text/plain": [
       "10"
      ]
     },
     "execution_count": 12,
     "metadata": {},
     "output_type": "execute_result"
    }
   ],
   "source": [
    "len(word)"
   ]
  },
  {
   "cell_type": "code",
   "execution_count": 11,
   "id": "adf61d59-dd5b-4721-bcc0-7140fd5c2c4b",
   "metadata": {},
   "outputs": [
    {
     "data": {
      "text/plain": [
       "True"
      ]
     },
     "execution_count": 11,
     "metadata": {},
     "output_type": "execute_result"
    }
   ],
   "source": [
    "len(word) > 5"
   ]
  },
  {
   "cell_type": "markdown",
   "id": "88457d06-df27-4f85-8a84-1fdef217c854",
   "metadata": {},
   "source": [
    "## Q)3"
   ]
  },
  {
   "cell_type": "code",
   "execution_count": 13,
   "id": "6bf54306-ac15-4b4e-a271-3a9ad270b126",
   "metadata": {},
   "outputs": [
    {
     "data": {
      "text/plain": [
       "12"
      ]
     },
     "execution_count": 13,
     "metadata": {},
     "output_type": "execute_result"
    }
   ],
   "source": [
    "num2 = 12\n",
    "num2"
   ]
  },
  {
   "cell_type": "code",
   "execution_count": 15,
   "id": "c513962c-19eb-4981-99e5-dec216c10f1e",
   "metadata": {},
   "outputs": [
    {
     "data": {
      "text/plain": [
       "True"
      ]
     },
     "execution_count": 15,
     "metadata": {},
     "output_type": "execute_result"
    }
   ],
   "source": [
    "num2 % 2 == 0"
   ]
  },
  {
   "cell_type": "code",
   "execution_count": 16,
   "id": "495b250d-22a2-419b-8a53-b12dcf69b97e",
   "metadata": {},
   "outputs": [
    {
     "data": {
      "text/plain": [
       "True"
      ]
     },
     "execution_count": 16,
     "metadata": {},
     "output_type": "execute_result"
    }
   ],
   "source": [
    "num2 > 10"
   ]
  },
  {
   "cell_type": "code",
   "execution_count": 17,
   "id": "3747e85f-f72a-4592-8e76-e0dd67150ae1",
   "metadata": {},
   "outputs": [
    {
     "data": {
      "text/plain": [
       "True"
      ]
     },
     "execution_count": 17,
     "metadata": {},
     "output_type": "execute_result"
    }
   ],
   "source": [
    "(num2 % 2 == 0) and (num2 > 10)"
   ]
  },
  {
   "cell_type": "markdown",
   "id": "f9a94be2-e34e-4ef8-8bf7-a6b58d57b279",
   "metadata": {},
   "source": [
    "## Q)4"
   ]
  },
  {
   "cell_type": "code",
   "execution_count": 18,
   "id": "b828152f-3965-49a0-9790-5c9a94d0a80b",
   "metadata": {},
   "outputs": [
    {
     "data": {
      "text/plain": [
       "3"
      ]
     },
     "execution_count": 18,
     "metadata": {},
     "output_type": "execute_result"
    }
   ],
   "source": [
    "num3 = 3\n",
    "num3"
   ]
  },
  {
   "cell_type": "code",
   "execution_count": 19,
   "id": "17927fb0-7393-4dc8-95fa-85c52c0c82cf",
   "metadata": {},
   "outputs": [
    {
     "data": {
      "text/plain": [
       "True"
      ]
     },
     "execution_count": 19,
     "metadata": {},
     "output_type": "execute_result"
    }
   ],
   "source": [
    "(num3 < 5)"
   ]
  },
  {
   "cell_type": "code",
   "execution_count": 20,
   "id": "ac18a35e-5bbd-4014-b9e3-94e9c2361524",
   "metadata": {},
   "outputs": [
    {
     "data": {
      "text/plain": [
       "False"
      ]
     },
     "execution_count": 20,
     "metadata": {},
     "output_type": "execute_result"
    }
   ],
   "source": [
    "(num3 > 20)"
   ]
  },
  {
   "cell_type": "code",
   "execution_count": 21,
   "id": "44377dc6-7825-4b3b-b6d8-6635d15bdc50",
   "metadata": {},
   "outputs": [
    {
     "data": {
      "text/plain": [
       "True"
      ]
     },
     "execution_count": 21,
     "metadata": {},
     "output_type": "execute_result"
    }
   ],
   "source": [
    "(num3 < 5) or (num3 > 20)"
   ]
  },
  {
   "cell_type": "markdown",
   "id": "cb56f6ec-a365-4bb2-893b-4c00fe0fa241",
   "metadata": {},
   "source": [
    "## Q)5"
   ]
  },
  {
   "cell_type": "code",
   "execution_count": 22,
   "id": "a70c5820-72d2-4373-b97f-c35d9188be3d",
   "metadata": {},
   "outputs": [
    {
     "data": {
      "text/plain": [
       "25"
      ]
     },
     "execution_count": 22,
     "metadata": {},
     "output_type": "execute_result"
    }
   ],
   "source": [
    "age = 25\n",
    "age"
   ]
  },
  {
   "cell_type": "code",
   "execution_count": 23,
   "id": "88f75241-13c5-4c18-91dd-055c15c5fb35",
   "metadata": {},
   "outputs": [
    {
     "data": {
      "text/plain": [
       "True"
      ]
     },
     "execution_count": 23,
     "metadata": {},
     "output_type": "execute_result"
    }
   ],
   "source": [
    "age >= 18"
   ]
  },
  {
   "cell_type": "code",
   "execution_count": 24,
   "id": "350611fd-4d05-45db-b6c1-f7c1a730e0d9",
   "metadata": {},
   "outputs": [
    {
     "data": {
      "text/plain": [
       "True"
      ]
     },
     "execution_count": 24,
     "metadata": {},
     "output_type": "execute_result"
    }
   ],
   "source": [
    "age <= 65"
   ]
  },
  {
   "cell_type": "code",
   "execution_count": 25,
   "id": "f214d974-bed9-4b16-88bf-5a8b27175c04",
   "metadata": {},
   "outputs": [
    {
     "data": {
      "text/plain": [
       "True"
      ]
     },
     "execution_count": 25,
     "metadata": {},
     "output_type": "execute_result"
    }
   ],
   "source": [
    "(age >= 18) and (age <= 65)"
   ]
  },
  {
   "cell_type": "code",
   "execution_count": 26,
   "id": "da2c0b42-02cb-415e-852d-c67d4f7d0af1",
   "metadata": {},
   "outputs": [
    {
     "data": {
      "text/plain": [
       "True"
      ]
     },
     "execution_count": 26,
     "metadata": {},
     "output_type": "execute_result"
    }
   ],
   "source": [
    "18 <= age <= 65"
   ]
  },
  {
   "cell_type": "markdown",
   "id": "078b913e-b2d3-431f-8ca0-19d430119363",
   "metadata": {},
   "source": [
    "## Q)6"
   ]
  },
  {
   "cell_type": "code",
   "execution_count": 27,
   "id": "86c6b6cc-7334-4ee7-aea5-6a904e544a86",
   "metadata": {},
   "outputs": [
    {
     "data": {
      "text/plain": [
       "'https://www.example.com'"
      ]
     },
     "execution_count": 27,
     "metadata": {},
     "output_type": "execute_result"
    }
   ],
   "source": [
    "url = \"https://www.example.com\"\n",
    "url"
   ]
  },
  {
   "cell_type": "code",
   "execution_count": 29,
   "id": "2e678608-a207-483a-9441-15c34b3f6743",
   "metadata": {},
   "outputs": [
    {
     "data": {
      "text/plain": [
       "False"
      ]
     },
     "execution_count": 29,
     "metadata": {},
     "output_type": "execute_result"
    }
   ],
   "source": [
    "url.startswith('http://')"
   ]
  },
  {
   "cell_type": "code",
   "execution_count": 30,
   "id": "e0367ec0-7ece-4445-9b48-97aa369bb636",
   "metadata": {},
   "outputs": [
    {
     "data": {
      "text/plain": [
       "True"
      ]
     },
     "execution_count": 30,
     "metadata": {},
     "output_type": "execute_result"
    }
   ],
   "source": [
    "url.startswith('https://')"
   ]
  },
  {
   "cell_type": "markdown",
   "id": "c7aa2e40-a64a-42a5-8452-ced1d525875e",
   "metadata": {},
   "source": [
    "## Q)7"
   ]
  },
  {
   "cell_type": "code",
   "execution_count": 31,
   "id": "39eba884-2030-4ae7-acdb-79f73a9daa87",
   "metadata": {},
   "outputs": [
    {
     "data": {
      "text/plain": [
       "100"
      ]
     },
     "execution_count": 31,
     "metadata": {},
     "output_type": "execute_result"
    }
   ],
   "source": [
    "price = 100\n",
    "price"
   ]
  },
  {
   "cell_type": "code",
   "execution_count": 36,
   "id": "138c888d-877f-4c8a-b924-f4189fa1b425",
   "metadata": {},
   "outputs": [],
   "source": [
    "discount= 10/100"
   ]
  },
  {
   "cell_type": "code",
   "execution_count": 42,
   "id": "4c7cd723-3993-4abc-8299-19d057add3d6",
   "metadata": {},
   "outputs": [
    {
     "data": {
      "text/plain": [
       "90.0"
      ]
     },
     "execution_count": 42,
     "metadata": {},
     "output_type": "execute_result"
    }
   ],
   "source": [
    "price * (1 - discount)"
   ]
  },
  {
   "cell_type": "markdown",
   "id": "07453913-98a6-4ca3-9008-3a59dde572bc",
   "metadata": {},
   "source": [
    "## Q)8"
   ]
  },
  {
   "cell_type": "code",
   "execution_count": 46,
   "id": "6c8005ba-ad75-41d6-8d54-2a3706c6b1eb",
   "metadata": {},
   "outputs": [
    {
     "data": {
      "text/plain": [
       "['alice@example.com', 'charlie@example.com', 'bob@example.com']"
      ]
     },
     "execution_count": 46,
     "metadata": {},
     "output_type": "execute_result"
    }
   ],
   "source": [
    "premium_customers = [\"alice@example.com\", \"charlie@example.com\", \"bob@example.com\"]\n",
    "premium_customers\n",
    "\n"
   ]
  },
  {
   "cell_type": "code",
   "execution_count": 47,
   "id": "7e716a35-4171-419d-9dea-9896d65671e1",
   "metadata": {},
   "outputs": [
    {
     "data": {
      "text/plain": [
       "['alex@example.com', 'david@example.com', 'chloe@example.com']"
      ]
     },
     "execution_count": 47,
     "metadata": {},
     "output_type": "execute_result"
    }
   ],
   "source": [
    "basic_customers = [\"alex@example.com\", \"david@example.com\", \"chloe@example.com\"]\n",
    "basic_customers"
   ]
  },
  {
   "cell_type": "code",
   "execution_count": 48,
   "id": "f9104465-9f06-4dc6-a380-f54f3119fd94",
   "metadata": {},
   "outputs": [
    {
     "name": "stdout",
     "output_type": "stream",
     "text": [
      "True\n"
     ]
    }
   ],
   "source": [
    "print ('alice@example.com' in premium_customers )"
   ]
  },
  {
   "cell_type": "code",
   "execution_count": 49,
   "id": "6cd5ce30-f419-4db6-a156-8361fbdac599",
   "metadata": {},
   "outputs": [
    {
     "name": "stdout",
     "output_type": "stream",
     "text": [
      "False\n"
     ]
    }
   ],
   "source": [
    "print ('alice@example.com' in basic_customers )"
   ]
  },
  {
   "cell_type": "code",
   "execution_count": 50,
   "id": "edcf5974-7f4b-4cdd-a752-b5e40deb1822",
   "metadata": {},
   "outputs": [
    {
     "data": {
      "text/plain": [
       "False"
      ]
     },
     "execution_count": 50,
     "metadata": {},
     "output_type": "execute_result"
    }
   ],
   "source": [
    "('alice@example.com' in premium_customers ) and ('alice@example.com' in basic_customers )"
   ]
  },
  {
   "cell_type": "markdown",
   "id": "1f43141e-33a1-41e4-999d-173cb27b10b8",
   "metadata": {},
   "source": [
    "## Q)9"
   ]
  },
  {
   "cell_type": "code",
   "execution_count": 28,
   "id": "821d8c75-935b-4131-8c6e-6d96171318b1",
   "metadata": {},
   "outputs": [
    {
     "name": "stdin",
     "output_type": "stream",
     "text": [
      "Enter your password:  Ahsan Lashari\n"
     ]
    },
    {
     "data": {
      "text/plain": [
       "False"
      ]
     },
     "execution_count": 28,
     "metadata": {},
     "output_type": "execute_result"
    }
   ],
   "source": [
    "password = input(\"Enter your password: \")\n",
    "upper= password.upper() != password\n",
    "lower= password.lower() != password\n",
    "space = \" \" in password\n",
    "valid = upper and lower and not space\n",
    "valid\n"
   ]
  },
  {
   "cell_type": "markdown",
   "id": "c0b680c6-a74f-4999-b36d-cc1a5b287d73",
   "metadata": {},
   "source": [
    "## Q)10"
   ]
  },
  {
   "cell_type": "code",
   "execution_count": 29,
   "id": "b0139a23-ee96-49e7-a647-fbd41f663931",
   "metadata": {},
   "outputs": [
    {
     "data": {
      "text/plain": [
       "'SKU-12345-XYZ'"
      ]
     },
     "execution_count": 29,
     "metadata": {},
     "output_type": "execute_result"
    }
   ],
   "source": [
    "product_code= \"SKU-12345-XYZ\"\n",
    "product_code"
   ]
  },
  {
   "cell_type": "code",
   "execution_count": 30,
   "id": "9224c1d2-a2f5-4254-971b-5dec78ea7597",
   "metadata": {},
   "outputs": [
    {
     "data": {
      "text/plain": [
       "3"
      ]
     },
     "execution_count": 30,
     "metadata": {},
     "output_type": "execute_result"
    }
   ],
   "source": [
    "product_code.find('-')"
   ]
  },
  {
   "cell_type": "code",
   "execution_count": 31,
   "id": "cc1afc18-5148-4488-97e7-e70a182a1b3c",
   "metadata": {},
   "outputs": [
    {
     "data": {
      "text/plain": [
       "2"
      ]
     },
     "execution_count": 31,
     "metadata": {},
     "output_type": "execute_result"
    }
   ],
   "source": [
    "product_code.count('-')\n"
   ]
  },
  {
   "cell_type": "code",
   "execution_count": 44,
   "id": "ef672c24-dc61-45da-9386-428b4fab3abe",
   "metadata": {},
   "outputs": [
    {
     "data": {
      "text/plain": [
       "'12345-XYZ'"
      ]
     },
     "execution_count": 44,
     "metadata": {},
     "output_type": "execute_result"
    }
   ],
   "source": [
    "a= product_code.removeprefix(\"SKU-\")\n",
    "a"
   ]
  },
  {
   "cell_type": "code",
   "execution_count": 45,
   "id": "f470aa19-df9d-4b16-bdb0-a5468c32f3d9",
   "metadata": {},
   "outputs": [
    {
     "data": {
      "text/plain": [
       "'12345'"
      ]
     },
     "execution_count": 45,
     "metadata": {},
     "output_type": "execute_result"
    }
   ],
   "source": [
    "a.removesuffix(\"-XYZ\")"
   ]
  },
  {
   "cell_type": "code",
   "execution_count": null,
   "id": "5dd8c992-f9da-4d5b-9f84-5d1019873fea",
   "metadata": {},
   "outputs": [],
   "source": []
  }
 ],
 "metadata": {
  "kernelspec": {
   "display_name": "Python 3 (ipykernel)",
   "language": "python",
   "name": "python3"
  },
  "language_info": {
   "codemirror_mode": {
    "name": "ipython",
    "version": 3
   },
   "file_extension": ".py",
   "mimetype": "text/x-python",
   "name": "python",
   "nbconvert_exporter": "python",
   "pygments_lexer": "ipython3",
   "version": "3.12.7"
  }
 },
 "nbformat": 4,
 "nbformat_minor": 5
}
